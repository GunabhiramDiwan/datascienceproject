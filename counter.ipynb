{
 "cells": [
  {
   "cell_type": "code",
   "execution_count": 6,
   "id": "37f108cf",
   "metadata": {},
   "outputs": [
    {
     "name": "stdout",
     "output_type": "stream",
     "text": [
      "2\n",
      "12 students in class 1\n",
      "24 students in class 1\n",
      "[('James', 3), ('Frank', 2), ('Bob', 1)]\n",
      "[('James', 2)]\n",
      "Counter({'James': 1, 'Frank': 1})\n"
     ]
    }
   ],
   "source": [
    "# Demonstrate the usage of Counter objects\n",
    "\n",
    "from collections import Counter\n",
    "\n",
    "\n",
    "# list of students in class 1\n",
    "class1 = [\"Bob\", \"James\", \"Chad\", \"Darcy\", \"Penny\", \"Hannah\",\n",
    "          \"Kevin\", \"James\", \"Melanie\", \"Becky\", \"Steve\", \"Frank\"]\n",
    "\n",
    "# list of students in class 2\n",
    "class2 = [\"Bill\", \"Barry\", \"Cindy\", \"Debbie\", \"Frank\",\n",
    "          \"Gabby\", \"Kelly\", \"James\", \"Joe\", \"Sam\", \"Tara\", \"Ziggy\"]\n",
    "\n",
    "# TODO: Create a Counter for class1 and class2\n",
    "c1 = Counter(class1)\n",
    "c2 = Counter(class2)\n",
    "\n",
    "# TODO: How many students in class 1 named James?\n",
    "print(c1[\"James\"])\n",
    "\n",
    "# TODO: How many students are in class 1?\n",
    "print(sum(c1.values()), \"students in class 1\")\n",
    "\n",
    "# TODO: Combine the two classes\n",
    "c1.update(class2)\n",
    "print(sum(c1.values()), \"students in class 1\")\n",
    "\n",
    "# TODO: What's the most common name in the two classes?\n",
    "print(c1.most_common(3))\n",
    "\n",
    "# TODO: Separate the classes again\n",
    "c1.subtract(class2)\n",
    "print(c1.most_common(1))\n",
    "\n",
    "# TODO: What's common between the two classes?\n",
    "print(c1 & c2)"
   ]
  },
  {
   "cell_type": "code",
   "execution_count": null,
   "id": "583350f0",
   "metadata": {},
   "outputs": [],
   "source": []
  }
 ],
 "metadata": {
  "kernelspec": {
   "display_name": "Python 3 (ipykernel)",
   "language": "python",
   "name": "python3"
  },
  "language_info": {
   "codemirror_mode": {
    "name": "ipython",
    "version": 3
   },
   "file_extension": ".py",
   "mimetype": "text/x-python",
   "name": "python",
   "nbconvert_exporter": "python",
   "pygments_lexer": "ipython3",
   "version": "3.9.12"
  }
 },
 "nbformat": 4,
 "nbformat_minor": 5
}
