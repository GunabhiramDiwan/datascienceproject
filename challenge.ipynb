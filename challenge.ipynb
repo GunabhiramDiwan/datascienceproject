{
 "cells": [
  {
   "cell_type": "code",
   "execution_count": 6,
   "id": "306f3bd3",
   "metadata": {},
   "outputs": [
    {
     "name": "stdout",
     "output_type": "stream",
     "text": [
      "earthquake     : 11558\n",
      "explosion      : 85\n",
      "quarry blast   : 81\n",
      "ice quake      : 17\n",
      "other event    : 4\n"
     ]
    }
   ],
   "source": [
    "# Example file for Advanced Python: Working With Data by Joe Marini\n",
    "# Programming challenge: use advanced data collections on the earthquake data\n",
    "\n",
    "import json\n",
    "from collections import defaultdict\n",
    "\n",
    "\n",
    "# open the data file and load the JSON\n",
    "with open(\"E:/Guna/Downloads/30DayQuakes.json\", \"r\") as datafile:\n",
    "    data = json.load(datafile)\n",
    "\n",
    "# use a defaultdict to categorize each event and count each one\n",
    "totals = defaultdict(int)\n",
    "for event in data['features']:\n",
    "    totals[event['properties']['type']] += 1\n",
    "\n",
    "for k, v in totals.items():\n",
    "    print(f\"{k:15}: {v}\")\n"
   ]
  },
  {
   "cell_type": "code",
   "execution_count": null,
   "id": "daeba135",
   "metadata": {},
   "outputs": [],
   "source": []
  }
 ],
 "metadata": {
  "kernelspec": {
   "display_name": "Python 3 (ipykernel)",
   "language": "python",
   "name": "python3"
  },
  "language_info": {
   "codemirror_mode": {
    "name": "ipython",
    "version": 3
   },
   "file_extension": ".py",
   "mimetype": "text/x-python",
   "name": "python",
   "nbconvert_exporter": "python",
   "pygments_lexer": "ipython3",
   "version": "3.9.12"
  }
 },
 "nbformat": 4,
 "nbformat_minor": 5
}
