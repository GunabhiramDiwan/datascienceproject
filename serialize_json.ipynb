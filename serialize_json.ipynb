{
 "cells": [
  {
   "cell_type": "code",
   "execution_count": 1,
   "id": "eddde065",
   "metadata": {},
   "outputs": [
    {
     "name": "stdout",
     "output_type": "stream",
     "text": [
      "[\n",
      "    {\n",
      "        \"date\": \"2020-03-18\",\n",
      "        \"link\": \"https://earthquake.usgs.gov/earthquakes/eventpage/us60008hzl\",\n",
      "        \"mag\": 6.2,\n",
      "        \"place\": \"246km S of Kangin, Indonesia\"\n",
      "    },\n",
      "    {\n",
      "        \"date\": \"2020-03-18\",\n",
      "        \"link\": \"https://earthquake.usgs.gov/earthquakes/eventpage/us60008hkg\",\n",
      "        \"mag\": 6.1,\n",
      "        \"place\": \"97km NNW of Sola, Vanuatu\"\n",
      "    },\n",
      "    {\n",
      "        \"date\": \"2020-03-14\",\n",
      "        \"link\": \"https://earthquake.usgs.gov/earthquakes/eventpage/us60008fl8\",\n",
      "        \"mag\": 6.3,\n",
      "        \"place\": \"298km NE of Raoul Island, New Zealand\"\n",
      "    }\n",
      "]\n"
     ]
    }
   ],
   "source": [
    "# Example file for Advanced Python: Working With Data by Joe Marini\n",
    "# demonstrates how to serialize data to a JSON file\n",
    "\n",
    "import json\n",
    "import datetime\n",
    "\n",
    "\n",
    "# read in the contents of the JSON file\n",
    "with open(\"E:/Guna/Downloads/30DayQuakes.json\", \"r\") as datafile:\n",
    "    data = json.load(datafile)\n",
    "\n",
    "\n",
    "def isbig(x):\n",
    "    mag = x[\"properties\"][\"mag\"]\n",
    "    return mag is not None and mag > 6\n",
    "\n",
    "\n",
    "# TODO: define a function to transform complex JSON to simpler JSON\n",
    "def simplequake(q):\n",
    "    return{\n",
    "        \"place\": q[\"properties\"][\"place\"], \n",
    "        \"mag\": q[\"properties\"][\"mag\"],\n",
    "        \"link\": q[\"properties\"][\"url\"],\n",
    "        \"date\": str(datetime.date.fromtimestamp(\n",
    "            int(q[\"properties\"][\"time\"])/1000\n",
    "        ))\n",
    "    }\n",
    "\n",
    "\n",
    "# filter the data to only include large quakes\n",
    "largequakes = list(filter(isbig, data[\"features\"]))\n",
    "\n",
    "# TODO: transform the data to a JSON format we want to save\n",
    "largequakes = list(map(simplequake, largequakes))\n",
    "\n",
    "# TODO: use the dumps() function to write json to a string\n",
    "str = json.dumps(largequakes,sort_keys = True, indent = 4)\n",
    "print(str)\n",
    "# TODO: use the dump() function to write json to a file\n",
    "with open(\"largequakes.json\", \"w\") as outfile:\n",
    "    json.dump(largequakes,outfile, sort_keys=True, indent = 4)"
   ]
  },
  {
   "cell_type": "code",
   "execution_count": null,
   "id": "22740aac",
   "metadata": {},
   "outputs": [],
   "source": []
  }
 ],
 "metadata": {
  "kernelspec": {
   "display_name": "Python 3 (ipykernel)",
   "language": "python",
   "name": "python3"
  },
  "language_info": {
   "codemirror_mode": {
    "name": "ipython",
    "version": 3
   },
   "file_extension": ".py",
   "mimetype": "text/x-python",
   "name": "python",
   "nbconvert_exporter": "python",
   "pygments_lexer": "ipython3",
   "version": "3.9.12"
  }
 },
 "nbformat": 4,
 "nbformat_minor": 5
}
