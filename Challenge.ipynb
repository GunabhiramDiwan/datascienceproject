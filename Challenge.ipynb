{
 "cells": [
  {
   "cell_type": "code",
   "execution_count": 70,
   "id": "28485285",
   "metadata": {},
   "outputs": [
    {
     "name": "stdout",
     "output_type": "stream",
     "text": [
      "The total number of earthquakes were:   11745\n",
      "The total number of quakes that were felt by at least 100 people:  28\n",
      "The most felt quake was in: M 5.7 - 6km NNE of Magna, Utah, The most number of reports were: 33091\n",
      "The event was: M 5.7 - 6km NNE of Magna, Utah, Significance: 1290\n",
      "The event was: M 5.8 - 69km W of Petrolia, CA, Significance: 1072\n",
      "The event was: M 5.2 - 15km W of Petrolia, CA, Significance: 1058\n",
      "The event was: M 5.5 - 71km SE of Estacion Coahuila, B.C., MX, Significance: 944\n",
      "The event was: M 4.5 - 7km NNE of Magna, Utah, Significance: 936\n",
      "The event was: M 4.6 - 5km NE of Magna, Utah, Significance: 873\n",
      "The event was: M 6.0 - 24km SE of Saray, Turkey, Significance: 662\n",
      "The event was: M 5.8 - 26km ESE of Saray, Turkey, Significance: 661\n",
      "The event was: M 6.2 - 246km S of Kangin, Indonesia, Significance: 626\n",
      "The event was: M 3.7 - 17km NNW of Truckee, CA, Significance: 619\n"
     ]
    }
   ],
   "source": [
    "# Example file for Advanced Python: Working With Data by Joe Marini\n",
    "# Programming challenge: summarize the earthquake data\n",
    "\n",
    "import json\n",
    "\n",
    "\n",
    "# for this challenge, we're going to summarize the earthquake data as follows:\n",
    "# 1: How many quakes are there in total?\n",
    "# 2: How many quakes were felt by at least 100 people?\n",
    "# 3: Print the name of the place whose quake was felt by the most people, with the # of reports\n",
    "# 4: Print the top 10 most significant events, with the significance value of each\n",
    "\n",
    "# open the data file and load the JSON\n",
    "with open(\"E:/Guna/Downloads/30DayQuakes.json\", \"r\") as datafile:\n",
    "    data = json.load(datafile)\n",
    "\n",
    "#1\n",
    "print(f\"The total number of earthquakes were:   {data['metadata']['count']}\") \n",
    "\n",
    "#2\n",
    "no_quakes_felt_by_atleast_hundredpeople = sum(quake[\"properties\"][\"felt\"] is not None and quake[\"properties\"][\"felt\"] >=100\n",
    "         for quake in data[\"features\"])\n",
    "print(\"The total number of quakes that were felt by at least 100 people: \", no_quakes_felt_by_atleast_hundredpeople)\n",
    "\n",
    "#3\n",
    "def getfelt(q):\n",
    "    f = q[\"properties\"][\"felt\"]\n",
    "    if f is not None:\n",
    "        return f\n",
    "    return 0\n",
    "\n",
    "mostfeltquake = max(data[\"features\"], key = getfelt)\n",
    "print(f\"The most felt quake was in: {mostfeltquake['properties']['title']}, The most number of reports were: {mostfeltquake['properties']['felt']}\")\n",
    "\n",
    "#4\n",
    "def getsig(s):\n",
    "    m = s[\"properties\"][\"sig\"]\n",
    "    if m is not None:\n",
    "        return m\n",
    "    return 0\n",
    "\n",
    "sigevents = sorted(data[\"features\"], key = getsig, reverse = True)\n",
    "for i in range(0,10):\n",
    "    print(f\"The event was: {sigevents[i]['properties']['title']}, Significance: {sigevents[i]['properties']['sig']}\")"
   ]
  }
 ],
 "metadata": {
  "kernelspec": {
   "display_name": "Python 3 (ipykernel)",
   "language": "python",
   "name": "python3"
  },
  "language_info": {
   "codemirror_mode": {
    "name": "ipython",
    "version": 3
   },
   "file_extension": ".py",
   "mimetype": "text/x-python",
   "name": "python",
   "nbconvert_exporter": "python",
   "pygments_lexer": "ipython3",
   "version": "3.9.12"
  }
 },
 "nbformat": 4,
 "nbformat_minor": 5
}
