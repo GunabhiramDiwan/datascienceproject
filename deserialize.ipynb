{
 "cells": [
  {
   "cell_type": "code",
   "execution_count": 12,
   "id": "7f9a8f56",
   "metadata": {},
   "outputs": [
    {
     "ename": "IndexError",
     "evalue": "list index out of range",
     "output_type": "error",
     "traceback": [
      "\u001b[1;31m---------------------------------------------------------------------------\u001b[0m",
      "\u001b[1;31mIndexError\u001b[0m                                Traceback (most recent call last)",
      "Input \u001b[1;32mIn [12]\u001b[0m, in \u001b[0;36m<cell line: 12>\u001b[1;34m()\u001b[0m\n\u001b[0;32m     23\u001b[0m     \u001b[38;5;66;03m# iterate over each row\u001b[39;00m\n\u001b[0;32m     24\u001b[0m     \u001b[38;5;28;01mfor\u001b[39;00m row \u001b[38;5;129;01min\u001b[39;00m reader:\n\u001b[0;32m     25\u001b[0m         \u001b[38;5;66;03m# print(row)\u001b[39;00m\n\u001b[0;32m     26\u001b[0m \n\u001b[0;32m     27\u001b[0m         \u001b[38;5;66;03m# add the data to our list\u001b[39;00m\n\u001b[0;32m     28\u001b[0m         result\u001b[38;5;241m.\u001b[39mappend({\n\u001b[1;32m---> 29\u001b[0m             \u001b[38;5;124m\"\u001b[39m\u001b[38;5;124mplace\u001b[39m\u001b[38;5;124m\"\u001b[39m: \u001b[43mrow\u001b[49m\u001b[43m[\u001b[49m\u001b[38;5;241;43m1\u001b[39;49m\u001b[43m]\u001b[49m,\n\u001b[0;32m     30\u001b[0m             \u001b[38;5;124m\"\u001b[39m\u001b[38;5;124mmagnitude\u001b[39m\u001b[38;5;124m\"\u001b[39m: row[\u001b[38;5;241m1\u001b[39m],\n\u001b[0;32m     31\u001b[0m             \u001b[38;5;124m\"\u001b[39m\u001b[38;5;124mdate\u001b[39m\u001b[38;5;124m\"\u001b[39m: row[\u001b[38;5;241m2\u001b[39m],\n\u001b[0;32m     32\u001b[0m             \u001b[38;5;124m\"\u001b[39m\u001b[38;5;124mlink\u001b[39m\u001b[38;5;124m\"\u001b[39m: row[\u001b[38;5;241m3\u001b[39m]\n\u001b[0;32m     33\u001b[0m         })\n\u001b[0;32m     35\u001b[0m pprint\u001b[38;5;241m.\u001b[39mpp(result)\n",
      "\u001b[1;31mIndexError\u001b[0m: list index out of range"
     ]
    }
   ],
   "source": [
    "# Example file for Advanced Python: Working With Data by Joe Marini\n",
    "# read data from a CSV file into an object structure\n",
    "\n",
    "import csv\n",
    "import pprint\n",
    "\n",
    "\n",
    "# read the contents of a CSV file into an object structure\n",
    "result = []\n",
    "\n",
    "# open the CSV file for reading\n",
    "with open(\"largequakes.csv\", \"r\") as csvfile:\n",
    "    # create the reader object\n",
    "    reader = csv.reader(csvfile)\n",
    "\n",
    "    # does the file contain headers?\n",
    "    sniffer = csv.Sniffer()\n",
    "    sample = csvfile.read(1024)\n",
    "    csvfile.seek(0)\n",
    "    if (sniffer.has_header(sample)):\n",
    "        next(reader)\n",
    "\n",
    "    # iterate over each row\n",
    "    for row in reader:\n",
    "        # print(row)\n",
    "\n",
    "        # add the data to our list\n",
    "        result.append({\n",
    "            \"place\": row[0],\n",
    "            \"magnitude\": row[1],\n",
    "            \"date\": row[2],\n",
    "            \"link\": row[3]\n",
    "        })\n",
    "\n",
    "pprint.pp(result)\n"
   ]
  },
  {
   "cell_type": "code",
   "execution_count": null,
   "id": "26484212",
   "metadata": {},
   "outputs": [],
   "source": []
  }
 ],
 "metadata": {
  "kernelspec": {
   "display_name": "Python 3 (ipykernel)",
   "language": "python",
   "name": "python3"
  },
  "language_info": {
   "codemirror_mode": {
    "name": "ipython",
    "version": 3
   },
   "file_extension": ".py",
   "mimetype": "text/x-python",
   "name": "python",
   "nbconvert_exporter": "python",
   "pygments_lexer": "ipython3",
   "version": "3.9.12"
  }
 },
 "nbformat": 4,
 "nbformat_minor": 5
}
