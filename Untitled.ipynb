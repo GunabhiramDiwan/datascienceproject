{
 "cells": [
  {
   "cell_type": "code",
   "execution_count": null,
   "id": "d92d5eff",
   "metadata": {},
   "outputs": [],
   "source": [
    "# Example file for Advanced Python: Working With Data by Joe Marini\n",
    "# Programming challenge: use advanced data collections on the earthquake data\n",
    "\n",
    "import json\n",
    "import csv\n",
    "\n",
    "\n",
    "# open the data file and load the JSON\n",
    "with open(\"E:/Guna/Downloads/30DayQuakes.json\", \"r\") as datafile:\n",
    "    data = json.load(datafile)\n",
    "\n",
    "# Create a CSV file with the following information:\n",
    "# 40 most significant seismic events, ordered by most recent\n",
    "# Header row: Magnitude, Place, Felt Reports, Date, and Google Map link\n",
    "# Date should be in the format of YYYY-MM-DD\n"
   ]
  }
 ],
 "metadata": {
  "kernelspec": {
   "display_name": "Python 3 (ipykernel)",
   "language": "python",
   "name": "python3"
  },
  "language_info": {
   "codemirror_mode": {
    "name": "ipython",
    "version": 3
   },
   "file_extension": ".py",
   "mimetype": "text/x-python",
   "name": "python",
   "nbconvert_exporter": "python",
   "pygments_lexer": "ipython3",
   "version": "3.9.12"
  }
 },
 "nbformat": 4,
 "nbformat_minor": 5
}
