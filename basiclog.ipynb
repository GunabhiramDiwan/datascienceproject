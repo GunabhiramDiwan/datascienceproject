{
 "cells": [
  {
   "cell_type": "code",
   "execution_count": 1,
   "id": "efbef4c5",
   "metadata": {},
   "outputs": [],
   "source": [
    "# demonstrate the logging api in Python\n",
    "\n",
    "# TODO: use the built-in logging module\n",
    "import logging\n",
    "\n",
    "# TODO: Use basicConfig to configure logging\n",
    "logging.basicConfig(level=logging.DEBUG, filename=\"output.log\",filemode=\"w\") #.log must\n",
    "\n",
    "# TODO: Try out each of the log levels\n",
    "logging.debug(\"This is a debug-level message\")\n",
    "logging.info(\"This is a info message\")\n",
    "logging.warning(\"This is a warning message\")\n",
    "logging.error(\"This is a error message\")\n",
    "logging.critical(\"This is a critical message\")\n",
    "\n",
    "# TODO: Output formatted strings to the log\n",
    "x = \"string\"\n",
    "y = 10\n",
    "logging.info(f\"Here's a {x} variable and int {y}\")\n"
   ]
  }
 ],
 "metadata": {
  "kernelspec": {
   "display_name": "Python 3 (ipykernel)",
   "language": "python",
   "name": "python3"
  },
  "language_info": {
   "codemirror_mode": {
    "name": "ipython",
    "version": 3
   },
   "file_extension": ".py",
   "mimetype": "text/x-python",
   "name": "python",
   "nbconvert_exporter": "python",
   "pygments_lexer": "ipython3",
   "version": "3.9.12"
  }
 },
 "nbformat": 4,
 "nbformat_minor": 5
}
