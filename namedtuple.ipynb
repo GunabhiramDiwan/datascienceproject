{
 "cells": [
  {
   "cell_type": "code",
   "execution_count": 7,
   "id": "f3e2fe1c",
   "metadata": {},
   "outputs": [
    {
     "name": "stdout",
     "output_type": "stream",
     "text": [
      "Point(x=10, y=20) Point(x=30, y=40)\n",
      "10 20\n",
      "Point(x=100, y=20)\n"
     ]
    }
   ],
   "source": [
    "# Demonstrate the usage of namdtuple objects\n",
    "\n",
    "import collections\n",
    "\n",
    "\n",
    "# TODO: create a Point namedtuple\n",
    "Point = collections.namedtuple(\"Point\", \"x y\") #namedtuplle is a function\n",
    "p1 = Point(10, 20)\n",
    "p2 = Point(30, 40)\n",
    "print(p1, p2)\n",
    "print(p1.x, p1.y)\n",
    "\n",
    "# TODO: use _replace to create a new instance\n",
    "p1 = p1._replace(x=100)\n",
    "print(p1)"
   ]
  },
  {
   "cell_type": "code",
   "execution_count": null,
   "id": "1caf2aa7",
   "metadata": {},
   "outputs": [],
   "source": []
  }
 ],
 "metadata": {
  "kernelspec": {
   "display_name": "Python 3 (ipykernel)",
   "language": "python",
   "name": "python3"
  },
  "language_info": {
   "codemirror_mode": {
    "name": "ipython",
    "version": 3
   },
   "file_extension": ".py",
   "mimetype": "text/x-python",
   "name": "python",
   "nbconvert_exporter": "python",
   "pygments_lexer": "ipython3",
   "version": "3.9.12"
  }
 },
 "nbformat": 4,
 "nbformat_minor": 5
}
