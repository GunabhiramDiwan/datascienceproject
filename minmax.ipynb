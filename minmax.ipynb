{
 "cells": [
  {
   "cell_type": "code",
   "execution_count": 4,
   "id": "74b71d48",
   "metadata": {},
   "outputs": [
    {
     "name": "stdout",
     "output_type": "stream",
     "text": [
      "USGS All Earthquakes, Past Month\n",
      "11745\n",
      "{'type': 'Feature', 'properties': {'mag': -1.31, 'place': '94km SE of King Salmon, Alaska', 'time': 1583824105680, 'updated': 1583950679450, 'tz': -540, 'url': 'https://earthquake.usgs.gov/earthquakes/eventpage/av70876584', 'detail': 'https://earthquake.usgs.gov/earthquakes/feed/v1.0/detail/av70876584.geojson', 'felt': None, 'cdi': None, 'mmi': None, 'alert': None, 'status': 'reviewed', 'tsunami': 0, 'sig': 0, 'net': 'av', 'code': '70876584', 'ids': ',av70876584,', 'sources': ',av,', 'types': ',geoserve,origin,phase-data,', 'nst': 4, 'dmin': 0.04596, 'rms': 0.08, 'gap': 241, 'magType': 'ml', 'type': 'earthquake', 'title': 'M -1.3 - 94km SE of King Salmon, Alaska'}, 'geometry': {'type': 'Point', 'coordinates': [-155.3741667, 58.1711667, 1.55]}, 'id': 'av70876584'}\n",
      "{'type': 'Feature', 'properties': {'mag': 6.3, 'place': '298km NE of Raoul Island, New Zealand', 'time': 1584180077383, 'updated': 1584266633243, 'tz': -720, 'url': 'https://earthquake.usgs.gov/earthquakes/eventpage/us60008fl8', 'detail': 'https://earthquake.usgs.gov/earthquakes/feed/v1.0/detail/us60008fl8.geojson', 'felt': 3, 'cdi': 2.4, 'mmi': 0, 'alert': 'green', 'status': 'reviewed', 'tsunami': 1, 'sig': 611, 'net': 'us', 'code': '60008fl8', 'ids': ',us60008fl8,pt20074000,at00q76h61,', 'sources': ',us,pt,at,', 'types': ',associate,dyfi,geoserve,impact-link,losspager,moment-tensor,origin,phase-data,shakemap,', 'nst': None, 'dmin': 2.687, 'rms': 1.03, 'gap': 22, 'magType': 'mww', 'type': 'earthquake', 'title': 'M 6.3 - 298km NE of Raoul Island, New Zealand'}, 'geometry': {'type': 'Point', 'coordinates': [-175.6847, -27.4196, 10]}, 'id': 'us60008fl8'}\n"
     ]
    }
   ],
   "source": [
    "# Example file for Advanced Python: Working With Data by Joe Marini\n",
    "# Demonstrates the usage of the min and max functions\n",
    "import json\n",
    "\n",
    "\n",
    "# Declare an array with some sample data in it\n",
    "values = [3.0, 2.5, 5.1, 4.1, 1.8, 1.6, 2.2, 5.7, 6.1]\n",
    "strings = [\"one\", \"three\", \"five\", \"seven\", \"eleven\", \"eighteen\"]\n",
    "\n",
    "\n",
    "# # TODO: The min() function finds the minimum value\n",
    "# print(f\"The minimum value is: {min(values)}\")\n",
    "# print(f\"The minimum value is: {min(strings)}\")\n",
    "\n",
    "# # TODO: The max() function finds the maximum value\n",
    "# print(f\"The maximum value is: {max(values)}\")\n",
    "# print(f\"The maximum value is:  {max(strings)}\")\n",
    "\n",
    "# # TODO: define a custom \"key\" function to extract a data field\n",
    "# print(f\"The maximum value is: {min(strings, key = len)}\")\n",
    "# print(f\"The maximum value is: {max(strings, key)}\")\n",
    "\n",
    "\n",
    "# TODO: open the data file and load the JSON\n",
    "with open(\"E:/Guna/Downloads/30DayQuakes.json\", \"r\") as datafile:\n",
    "     data = json.load(datafile)\n",
    "\n",
    "print(data[\"metadata\"][\"title\"])\n",
    "print(len(data[\"features\"]))\n",
    "\n",
    "def getmag(dataitem):\n",
    "    magnitude = dataitem[\"properties\"][\"mag\"]\n",
    "    if (magnitude is None):\n",
    "        magnitude = 0\n",
    "    return float(magnitude)\n",
    "print(min(data[\"features\"], key = getmag))\n",
    "print(max(data[\"features\"], key = getmag))"
   ]
  },
  {
   "cell_type": "code",
   "execution_count": null,
   "id": "2e530966",
   "metadata": {},
   "outputs": [],
   "source": []
  }
 ],
 "metadata": {
  "kernelspec": {
   "display_name": "Python 3 (ipykernel)",
   "language": "python",
   "name": "python3"
  },
  "language_info": {
   "codemirror_mode": {
    "name": "ipython",
    "version": 3
   },
   "file_extension": ".py",
   "mimetype": "text/x-python",
   "name": "python",
   "nbconvert_exporter": "python",
   "pygments_lexer": "ipython3",
   "version": "3.9.12"
  }
 },
 "nbformat": 4,
 "nbformat_minor": 5
}
