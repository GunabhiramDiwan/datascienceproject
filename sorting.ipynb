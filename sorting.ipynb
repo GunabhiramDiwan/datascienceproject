{
 "cells": [
  {
   "cell_type": "code",
   "execution_count": 3,
   "id": "d30c737c",
   "metadata": {},
   "outputs": [
    {
     "name": "stdout",
     "output_type": "stream",
     "text": [
      "[4, 16, 17, 19, 23, 31, 42, 54]\n",
      "['Zach', 'Stephanie', 'Stacy', 'Lukas', 'Joe', 'Jeff', 'Bill', 'Addie']\n"
     ]
    }
   ],
   "source": [
    "# Example file for Advanced Python: Working With Data by Joe Marini\n",
    "# sorting data with the sorted() and sort() functions\n",
    "\n",
    "import json\n",
    "\n",
    "\n",
    "numbers = [42, 54, 19, 17, 23, 31, 16, 4]\n",
    "names = [\"Jeff\", \"Bill\", \"Addie\", \"Stephanie\", \"Zach\", \"Lukas\", \"Joe\", \"Stacy\"]\n",
    "\n",
    "# TODO: the sorted() function can be used to return a new list with sorted data\n",
    "# result1 = sorted(numbers)\n",
    "# print(result1)\n",
    "\n",
    "# # TODO: alternately, you can use the list object's sort() method, which sorts the list in-place\n",
    "# names.sort(reverse = True)\n",
    "# print(names)\n",
    "\n",
    "# TODO: To sort custom objects, we can tell the sort function which property to use\n",
    "# by specifying a key function\n",
    "\n",
    "#open the data file and load the JSON\n",
    "with open(\"E:/Guna/Downloads/30DayQuakes.json\", \"r\") as datafile:\n",
    "        data = json.load(datafile)\n",
    "\n",
    "\n",
    "def getmag(dataitem):\n",
    "     magnitude = dataitem[\"properties\"][\"mag\"]\n",
    "        if (magnitude is None):\n",
    "            magnitude = 0\n",
    "        return float(magnitude)\n",
    "data[\"features\"].sort(key=getmag, reverse = True)\n",
    "for i in range(0,10):\n",
    "    print(data[\"features\"][i][\"properties\"][\"place\"])"
   ]
  }
 ],
 "metadata": {
  "kernelspec": {
   "display_name": "Python 3 (ipykernel)",
   "language": "python",
   "name": "python3"
  },
  "language_info": {
   "codemirror_mode": {
    "name": "ipython",
    "version": 3
   },
   "file_extension": ".py",
   "mimetype": "text/x-python",
   "name": "python",
   "nbconvert_exporter": "python",
   "pygments_lexer": "ipython3",
   "version": "3.9.12"
  }
 },
 "nbformat": 4,
 "nbformat_minor": 5
}
