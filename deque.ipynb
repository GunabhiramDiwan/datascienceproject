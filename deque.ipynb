{
 "cells": [
  {
   "cell_type": "code",
   "execution_count": 5,
   "id": "88e0df13",
   "metadata": {},
   "outputs": [
    {
     "name": "stdout",
     "output_type": "stream",
     "text": [
      "Item Count: 26\n",
      "A\n",
      "B\n",
      "C\n",
      "D\n",
      "E\n",
      "F\n",
      "G\n",
      "H\n",
      "I\n",
      "J\n",
      "K\n",
      "L\n",
      "M\n",
      "N\n",
      "O\n",
      "P\n",
      "Q\n",
      "R\n",
      "S\n",
      "T\n",
      "U\n",
      "V\n",
      "W\n",
      "X\n",
      "Y\n",
      "Z\n",
      "deque([1, 'b', 'c', 'd', 'e', 'f', 'g', 'h', 'i', 'j', 'k', 'l', 'm', 'n', 'o', 'p', 'q', 'r', 's', 't', 'u', 'v', 'w', 'x', 'y', 2])\n",
      "deque([1, 'b', 'c', 'd', 'e', 'f', 'g', 'h', 'i', 'j', 'k', 'l', 'm', 'n', 'o', 'p', 'q', 'r', 's', 't', 'u', 'v', 'w', 'x', 'y', 2])\n",
      "deque([2, 1, 'b', 'c', 'd', 'e', 'f', 'g', 'h', 'i', 'j', 'k', 'l', 'm', 'n', 'o', 'p', 'q', 'r', 's', 't', 'u', 'v', 'w', 'x', 'y'])\n"
     ]
    }
   ],
   "source": [
    "# deque objects are like double-ended queues\n",
    "\n",
    "import collections\n",
    "import string\n",
    "\n",
    "\n",
    "# TODO: initialize a deque with lowercase letters\n",
    "d = collections.deque(string.ascii_lowercase)\n",
    "\n",
    "# TODO: deques support the len() function\n",
    "print(f\"Item Count: {len(d)}\")\n",
    "      \n",
    "# TODO: deques can be iterated over\n",
    "for elem in d:\n",
    "    print(elem.upper())\n",
    "    \n",
    "# TODO: manipulate items from either end\n",
    "d.pop()\n",
    "d.popleft()\n",
    "d.append(2)\n",
    "d.appendleft(1)\n",
    "print(d)\n",
    "\n",
    "# TODO: use an index to get a particular item\n",
    "print(d)\n",
    "d.rotate(1)\n",
    "print(d)"
   ]
  }
 ],
 "metadata": {
  "kernelspec": {
   "display_name": "Python 3 (ipykernel)",
   "language": "python",
   "name": "python3"
  },
  "language_info": {
   "codemirror_mode": {
    "name": "ipython",
    "version": 3
   },
   "file_extension": ".py",
   "mimetype": "text/x-python",
   "name": "python",
   "nbconvert_exporter": "python",
   "pygments_lexer": "ipython3",
   "version": "3.9.12"
  }
 },
 "nbformat": 4,
 "nbformat_minor": 5
}
